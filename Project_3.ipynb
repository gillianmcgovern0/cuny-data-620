{
  "nbformat": 4,
  "nbformat_minor": 0,
  "metadata": {
    "colab": {
      "provenance": [],
      "toc_visible": true
    },
    "kernelspec": {
      "name": "python3",
      "display_name": "Python 3"
    },
    "language_info": {
      "name": "python"
    }
  },
  "cells": [
    {
      "cell_type": "markdown",
      "source": [
        "# Project 3\n",
        "\n",
        "**Gillian McGovern, Dhanya Nair, Dirk Hartog**\n",
        "\n",
        "Project Requirement:\n",
        "\n",
        "Split the Names Corpus into three subsets: 500 words for the test set, 500 words for the dev-test set, and the remaining 6900 words for the training set. Then, starting with the example name gender classifier, make incremental improvements. Use the dev-test set to check your progress. Once you are satisfied with your classifier, check its final performance on the test set.\n",
        "\n",
        "Answer the questions:\n",
        "\n",
        "\n",
        "*   How does the performance on the test set compare to the performance on the dev-test set?\n",
        "*   Is this what you'd expect?\n",
        "\n",
        "Source: Natural Language Processing with Python, exercise 6.10.2."
      ],
      "metadata": {
        "id": "wZyOKCl9Nv0_"
      }
    },
    {
      "cell_type": "markdown",
      "source": [
        "# Import Data\n",
        "\n"
      ],
      "metadata": {
        "id": "V5t6S1DV3ekj"
      }
    },
    {
      "cell_type": "code",
      "execution_count": null,
      "metadata": {
        "colab": {
          "base_uri": "https://localhost:8080/"
        },
        "id": "q3JqerqQNrH_",
        "outputId": "a7f1320e-c9fe-42fa-bfb0-6d5ddcc26e43"
      },
      "outputs": [
        {
          "output_type": "stream",
          "name": "stdout",
          "text": [
            "Training set size: 6944\n",
            "Dev-test set size: 500\n",
            "Test set size: 500\n"
          ]
        },
        {
          "output_type": "stream",
          "name": "stderr",
          "text": [
            "[nltk_data] Downloading package names to /root/nltk_data...\n",
            "[nltk_data]   Unzipping corpora/names.zip.\n"
          ]
        }
      ],
      "source": [
        "import random\n",
        "import nltk\n",
        "from nltk.corpus import names #it contains lists of male and female first names.\n",
        "import matplotlib.pyplot as plt\n",
        "import seaborn as sns\n",
        "\n",
        "\n",
        "# Download names corpus if not already downloaded\n",
        "nltk.download('names')\n",
        "\n",
        "# Load the labeled names corpus\n",
        "labeled_names = ([(name, 'male') for name in names.words('male.txt')] +\n",
        "                 [(name, 'female') for name in names.words('female.txt')])\n",
        "\n",
        "# shuffle the names to avoid bias in the dataset ordering (e.g., all male names first).\n",
        "random.seed(123)\n",
        "random.shuffle(labeled_names)\n",
        "\n",
        "# Split the data\n",
        "test_set = labeled_names[:500]\n",
        "devtest_set = labeled_names[500:1000]\n",
        "train_set = labeled_names[1000:]\n",
        "\n",
        "# display the size\n",
        "print(f\"Training set size: {len(train_set)}\")\n",
        "print(f\"Dev-test set size: {len(devtest_set)}\")\n",
        "print(f\"Test set size: {len(test_set)}\")\n"
      ]
    },
    {
      "cell_type": "markdown",
      "source": [
        "# Naive Bayes Base Model"
      ],
      "metadata": {
        "id": "RCGGaYRKPmUl"
      }
    },
    {
      "cell_type": "code",
      "source": [
        "# Feature extractor (baseline = last letter)\n",
        "def gender_features(word):\n",
        "    return {'last_letter': word[-1].lower()}\n",
        "\n",
        "# Apply features\n",
        "train_feats = [(gender_features(n), g) for (n, g) in train_set]\n",
        "devtest_feats = [(gender_features(n), g) for (n, g) in devtest_set]\n",
        "test_feats = [(gender_features(n), g) for (n, g) in test_set]\n",
        "\n",
        "# Train classifier\n",
        "classifier = nltk.NaiveBayesClassifier.train(train_feats)\n",
        "\n",
        "# Evaluate\n",
        "print(\"Dev-test accuracy:\", nltk.classify.accuracy(classifier, devtest_feats))\n",
        "print(\"Test accuracy:\", nltk.classify.accuracy(classifier, test_feats))\n"
      ],
      "metadata": {
        "id": "tS8Qf-9BPlzM",
        "colab": {
          "base_uri": "https://localhost:8080/"
        },
        "outputId": "b4214b0d-b61a-4005-91a3-69cc6f9d9cfd"
      },
      "execution_count": null,
      "outputs": [
        {
          "output_type": "stream",
          "name": "stdout",
          "text": [
            "Dev-test accuracy: 0.78\n",
            "Test accuracy: 0.778\n"
          ]
        }
      ]
    },
    {
      "cell_type": "code",
      "source": [
        "classifier.show_most_informative_features(5)\n"
      ],
      "metadata": {
        "colab": {
          "base_uri": "https://localhost:8080/"
        },
        "id": "5T_ta1ZoR8iK",
        "outputId": "e4fede81-7dee-45a8-df93-624d5ae2805c"
      },
      "execution_count": null,
      "outputs": [
        {
          "output_type": "stream",
          "name": "stdout",
          "text": [
            "Most Informative Features\n",
            "             last_letter = 'a'            female : male   =     33.3 : 1.0\n",
            "             last_letter = 'k'              male : female =     29.2 : 1.0\n",
            "             last_letter = 'p'              male : female =     18.6 : 1.0\n",
            "             last_letter = 'f'              male : female =     15.2 : 1.0\n",
            "             last_letter = 'v'              male : female =      9.8 : 1.0\n"
          ]
        }
      ]
    },
    {
      "cell_type": "markdown",
      "source": [
        "Most informative feature for this model is if the name ends with an `a` indicating it is a female. This is closely followed by the name ending in `k` indicating a male name."
      ],
      "metadata": {
        "id": "pXU8tnboqvI3"
      }
    },
    {
      "cell_type": "markdown",
      "source": [
        "# Naive Bayes Model 2"
      ],
      "metadata": {
        "id": "FSv9bwyt3he0"
      }
    },
    {
      "cell_type": "code",
      "source": [
        "# Additional features to model 1\n",
        "\n",
        "def gender_features2(word):\n",
        "    return {\n",
        "        'last_letter': word[-1].lower(),\n",
        "        'last_two': word[-2:].lower(),\n",
        "        'first_letter': word[0].lower(),\n",
        "        'length': len(word),\n",
        "        'has_vowel': any(c in 'aeiou' for c in word.lower())\n",
        "    }\n",
        "\n",
        "# Rebuild sets\n",
        "train_feats2 = [(gender_features2(n), g) for (n, g) in train_set]\n",
        "devtest_feats2 = [(gender_features2(n), g) for (n, g) in devtest_set]\n",
        "test_feats2 = [(gender_features2(n), g) for (n, g) in test_set]\n",
        "\n",
        "# Retrain\n",
        "classifier2 = nltk.NaiveBayesClassifier.train(train_feats2)\n",
        "\n",
        "# Re-evaluate\n",
        "print(\"Improved Dev-test accuracy:\", nltk.classify.accuracy(classifier2, devtest_feats2))\n",
        "print(\"Improved Test accuracy:\", nltk.classify.accuracy(classifier2, test_feats2))\n",
        "classifier2.show_most_informative_features(10)\n"
      ],
      "metadata": {
        "colab": {
          "base_uri": "https://localhost:8080/"
        },
        "id": "PMVuoEAkOoKO",
        "outputId": "6b7074c7-35a6-442f-b325-f34b4806c951"
      },
      "execution_count": null,
      "outputs": [
        {
          "output_type": "stream",
          "name": "stdout",
          "text": [
            "Improved Dev-test accuracy: 0.802\n",
            "Improved Test accuracy: 0.786\n",
            "Most Informative Features\n",
            "                last_two = 'na'           female : male   =    159.6 : 1.0\n",
            "                last_two = 'la'           female : male   =     73.3 : 1.0\n",
            "                last_two = 'ia'           female : male   =     36.0 : 1.0\n",
            "                last_two = 'sa'           female : male   =     33.9 : 1.0\n",
            "             last_letter = 'a'            female : male   =     33.3 : 1.0\n",
            "                last_two = 'ta'           female : male   =     30.9 : 1.0\n",
            "                last_two = 'rt'             male : female =     30.2 : 1.0\n",
            "             last_letter = 'k'              male : female =     29.2 : 1.0\n",
            "                last_two = 'rd'             male : female =     28.7 : 1.0\n",
            "                last_two = 'us'             male : female =     28.7 : 1.0\n"
          ]
        }
      ]
    },
    {
      "cell_type": "markdown",
      "source": [
        "In most cases, performance on the dev-test is slightly higher than on the test set because the classifier has indirectly been tuned using the dev-test set. Also, the test set represents a truly unseen dataset, making it more realistic.\n",
        "\n",
        "A more accurate dev-test is expected. Using the dev-test set for model selection or feature tuning makes it slightly optimistic. The test set serves as an unbiased estimate of generalization performance.\n",
        "\n"
      ],
      "metadata": {
        "id": "JAxPhnkzOrUC"
      }
    },
    {
      "cell_type": "markdown",
      "source": [
        "## Model 2 Evaluation"
      ],
      "metadata": {
        "id": "OXa6De_d3MWw"
      }
    },
    {
      "cell_type": "code",
      "source": [
        "top_features = {}\n",
        "\n",
        "for (feat, i) in classifier2.most_informative_features(100):\n",
        "  if feat not in top_features.keys():\n",
        "    top_features[feat] = 1\n",
        "  else:\n",
        "    top_features[feat] += 1\n",
        "\n",
        "plt.bar(x = top_features.keys(), height = top_features.values())\n",
        "plt.title(\"Model 2: Most informative features\")\n",
        "plt.show()"
      ],
      "metadata": {
        "colab": {
          "base_uri": "https://localhost:8080/",
          "height": 452
        },
        "id": "EJI5ll_1qSu9",
        "outputId": "91f94e39-61c5-48fc-f4cd-0f71502628c3"
      },
      "execution_count": null,
      "outputs": [
        {
          "output_type": "display_data",
          "data": {
            "text/plain": [
              "<Figure size 640x480 with 1 Axes>"
            ],
            "image/png": "[encoded data removed]"
          },
          "metadata": {}
        }
      ]
    },
    {
      "cell_type": "code",
      "source": [
        "# Get errors\n",
        "\n",
        "errors = []\n",
        "for (name, tag) in devtest_set:\n",
        "    guess = classifier2.classify(gender_features2(name))\n",
        "    if guess != tag:\n",
        "        errors.append( (tag, guess, name) )\n",
        "\n",
        "# Print out the first 10 errors\n",
        "male_errors_counts = {}\n",
        "female_errors_counts = {}\n",
        "\n",
        "for (tag, guess, name) in sorted(errors):\n",
        "  if guess == 'male':\n",
        "    if name[-1] in male_errors_counts.keys():\n",
        "      male_errors_counts[name[-1]] += 1\n",
        "    else:\n",
        "      male_errors_counts[name[-1]] = 1\n",
        "  else:\n",
        "    if name[-1] in female_errors_counts.keys():\n",
        "      female_errors_counts[name[-1]] += 1\n",
        "    else:\n",
        "      female_errors_counts[name[-1]] = 1\n",
        "\n",
        "\n",
        "#print('correct={:<8} guess={:<8s} name={:<30}'.format(tag, guess, name))"
      ],
      "metadata": {
        "id": "eUUsLpARfgd2"
      },
      "execution_count": null,
      "outputs": []
    },
    {
      "cell_type": "code",
      "source": [
        "# Count of ending letter of Names incorrectly identified as 'male'\n",
        "sorted(male_errors_counts.items(), key = lambda x: x[1], reverse = True)"
      ],
      "metadata": {
        "colab": {
          "base_uri": "https://localhost:8080/"
        },
        "id": "pme4_H9ItCdj",
        "outputId": "ce7819ad-36ad-4a0e-f2a1-337927ebd2fa"
      },
      "execution_count": null,
      "outputs": [
        {
          "output_type": "execute_result",
          "data": {
            "text/plain": [
              "[('n', 18),\n",
              " ('y', 11),\n",
              " ('l', 5),\n",
              " ('t', 4),\n",
              " ('s', 3),\n",
              " ('r', 3),\n",
              " ('m', 2),\n",
              " ('h', 2),\n",
              " ('o', 2),\n",
              " ('w', 1),\n",
              " ('d', 1),\n",
              " ('e', 1)]"
            ]
          },
          "metadata": {},
          "execution_count": 6
        }
      ]
    },
    {
      "cell_type": "code",
      "source": [
        "# Count of ending letter of Names incorrectly identified as 'female'\n",
        "sorted(female_errors_counts.items(), key = lambda x: x[1], reverse = True)"
      ],
      "metadata": {
        "colab": {
          "base_uri": "https://localhost:8080/"
        },
        "id": "zwLm4nGntEkR",
        "outputId": "57ba43f7-8ba0-434d-d195-bf7b2ca134a7"
      },
      "execution_count": null,
      "outputs": [
        {
          "output_type": "execute_result",
          "data": {
            "text/plain": [
              "[('e', 28), ('y', 5), ('i', 4), ('n', 4), ('l', 3), ('a', 1), ('h', 1)]"
            ]
          },
          "metadata": {},
          "execution_count": 7
        }
      ]
    },
    {
      "cell_type": "markdown",
      "source": [
        "Feature Engineering/Selection continued\n",
        "\n",
        "Within the 105 errors made by the second model:\n",
        "- 12 names were **incorrectly identified as male** when the name ended in 'l'\n",
        "- 29 names were **incorrectly identified as female** when the name ended in 'e'\n",
        "\n",
        "The last two letters dominated the top 10 most informative fearture list with 8/10, while the only other infomative feature in this list was the last letter. This indicates the ending of the name is more informative than the beginning of a name, and a bigram token (2 letters) is more useful than a unigram. These two features may seem kind of redundant. We can experiment with the current features for any comibination that yields the highest accuracy."
      ],
      "metadata": {
        "id": "yqsQlfFeiCDV"
      }
    },
    {
      "cell_type": "markdown",
      "source": [
        "# Naive Bayes Model 3"
      ],
      "metadata": {
        "id": "tzlCPoQF3sSB"
      }
    },
    {
      "cell_type": "code",
      "source": [
        "import re\n",
        "from nltk.tokenize import SyllableTokenizer\n",
        "\n",
        "mappings = [('ph', 'f'), ('ght', 't'), ('^kn', 'n'), ('qu', 'kw'),\n",
        "           ('[aeiou]+', 'a'), (r'(.)\\1', r'\\1')]\n",
        "\n",
        "# Pronunciation using the above mappings (from textbook)\n",
        "def signature(word):\n",
        "  for patt, repl in mappings:\n",
        "    word = re.sub(patt, repl, word)\n",
        "  pieces = re.findall('[^aeiou]+', word)\n",
        "  return ''.join(char for piece in pieces for char in sorted(piece))[:8]\n",
        "\n",
        "# Syllable count\n",
        "SSP = SyllableTokenizer()\n",
        "\n",
        "def gender_features3(word):\n",
        "    return {\n",
        "        'last_two': word[-2:].lower(),\n",
        "        'last_three': word[-3:].lower(),\n",
        "        'first_letter': word[0].lower(),\n",
        "        'length': len(word),\n",
        "        'signature': signature(word), # pronunciation\n",
        "        'syllable_count': len(SSP.tokenize(word)),\n",
        "    }\n",
        "\n",
        "# Rebuild sets\n",
        "train_feats3 = [(gender_features3(n), g) for (n, g) in train_set]\n",
        "devtest_feats3 = [(gender_features3(n), g) for (n, g) in devtest_set]\n",
        "test_feats3 = [(gender_features3(n), g) for (n, g) in test_set]\n",
        "\n",
        "# Retrain\n",
        "classifier3 = nltk.NaiveBayesClassifier.train(train_feats3)\n",
        "\n",
        "# Re-evaluate\n",
        "print(\"Improved Dev-test accuracy:\", nltk.classify.accuracy(classifier3, devtest_feats3))\n",
        "print(\"Improved Test accuracy:\", nltk.classify.accuracy(classifier3, test_feats3))\n",
        "classifier3.show_most_informative_features(20)"
      ],
      "metadata": {
        "colab": {
          "base_uri": "https://localhost:8080/"
        },
        "id": "DPV4foVWq96R",
        "outputId": "70e812a2-b0d6-43a6-b960-2e8905697186"
      },
      "execution_count": null,
      "outputs": [
        {
          "output_type": "stream",
          "name": "stdout",
          "text": [
            "Improved Dev-test accuracy: 0.82\n",
            "Improved Test accuracy: 0.826\n",
            "Most Informative Features\n",
            "                last_two = 'na'           female : male   =    159.6 : 1.0\n",
            "                last_two = 'la'           female : male   =     73.3 : 1.0\n",
            "                last_two = 'ia'           female : male   =     36.0 : 1.0\n",
            "                last_two = 'sa'           female : male   =     33.9 : 1.0\n",
            "                last_two = 'ta'           female : male   =     30.9 : 1.0\n",
            "                last_two = 'rt'             male : female =     30.2 : 1.0\n",
            "                last_two = 'rd'             male : female =     28.7 : 1.0\n",
            "                last_two = 'us'             male : female =     28.7 : 1.0\n",
            "              last_three = 'ard'            male : female =     25.8 : 1.0\n",
            "              last_three = 'ita'          female : male   =     25.6 : 1.0\n",
            "                last_two = 'ra'           female : male   =     24.0 : 1.0\n",
            "              last_three = 'ana'          female : male   =     23.8 : 1.0\n",
            "              last_three = 'tta'          female : male   =     23.8 : 1.0\n",
            "                last_two = 'do'             male : female =     23.8 : 1.0\n",
            "                last_two = 'ch'             male : female =     22.7 : 1.0\n",
            "                last_two = 'ld'             male : female =     22.3 : 1.0\n",
            "              last_three = 'nne'          female : male   =     19.5 : 1.0\n",
            "              last_three = 'vin'            male : female =     19.1 : 1.0\n",
            "                last_two = 'os'             male : female =     17.2 : 1.0\n",
            "              last_three = 'old'            male : female =     17.1 : 1.0\n"
          ]
        }
      ]
    },
    {
      "cell_type": "markdown",
      "source": [
        "## Model 3 Evaluation"
      ],
      "metadata": {
        "id": "ev2Yk_w13xt1"
      }
    },
    {
      "cell_type": "code",
      "source": [
        "top_features = {}\n",
        "\n",
        "for (feat, i) in classifier3.most_informative_features(100):\n",
        "  if feat not in top_features.keys():\n",
        "    top_features[feat] = 1\n",
        "  else:\n",
        "    top_features[feat] += 1"
      ],
      "metadata": {
        "id": "E0_iWPppkuYn"
      },
      "execution_count": null,
      "outputs": []
    },
    {
      "cell_type": "code",
      "source": [
        "plt.bar(x = top_features.keys(), height = top_features.values())\n",
        "plt.title(\"Model 3: Most informative features\")\n",
        "plt.show()"
      ],
      "metadata": {
        "colab": {
          "base_uri": "https://localhost:8080/",
          "height": 452
        },
        "id": "CSYnwAIcpsJ6",
        "outputId": "1bf8e42e-ff62-4668-d70c-d278919b5f75"
      },
      "execution_count": null,
      "outputs": [
        {
          "output_type": "display_data",
          "data": {
            "text/plain": [
              "<Figure size 640x480 with 1 Axes>"
            ],
            "image/png": "[encoded data removed]"
          },
          "metadata": {}
        }
      ]
    },
    {
      "cell_type": "markdown",
      "source": [
        "In this third iteration of a Naive Bayes model to predict the label of a name as male or female, eliminating the \"last_letter\" feature improved the accuracy, while including the 'has_vowel' feature did not impact the accuarcy in either direction. Additionally, using the \"last_three\" letters proved to be more useful than just the \"last_two\" as it had a higher count for the overall top 100 most informative features. Although, the most important feature is still the last two letters ('na'). Adding the pronunciation of the name improved the model very slightly, while adding the syllable count did not have any effect.\n",
        "\n",
        "Again, having the last two and three letters seems redundant, but removing one of those features hurts the model's accuracy."
      ],
      "metadata": {
        "id": "clomH5nF1p2N"
      }
    },
    {
      "cell_type": "markdown",
      "source": [
        "# Decision Tree Base Model"
      ],
      "metadata": {
        "id": "hiVds_qHPeak"
      }
    },
    {
      "cell_type": "code",
      "source": [
        "# Use the train and devtest_feats from the Naive Base model\n",
        "## train_feats\n",
        "## devtest_feats\n",
        "## test_feats\n",
        "\n",
        "dt_classifier = nltk.DecisionTreeClassifier.train(train_feats)\n",
        "\n",
        "nltk.classify.accuracy(classifier, devtest_feats)"
      ],
      "metadata": {
        "colab": {
          "base_uri": "https://localhost:8080/"
        },
        "id": "xIra7LDjRWgS",
        "outputId": "26caae8b-cd55-4bf5-d7d6-af47d1d6e4f3"
      },
      "execution_count": null,
      "outputs": [
        {
          "output_type": "execute_result",
          "data": {
            "text/plain": [
              "0.78"
            ]
          },
          "metadata": {},
          "execution_count": 11
        }
      ]
    },
    {
      "cell_type": "code",
      "source": [
        "# Print the Decision Tree\n",
        "print(dt_classifier.pseudocode(depth=4))"
      ],
      "metadata": {
        "colab": {
          "base_uri": "https://localhost:8080/"
        },
        "id": "eLGs-EaxSQCd",
        "outputId": "a308cf46-4169-4a20-9f6e-9e57f187d71f"
      },
      "execution_count": null,
      "outputs": [
        {
          "output_type": "stream",
          "name": "stdout",
          "text": [
            "if last_letter == ' ': return 'female'\n",
            "if last_letter == 'a': return 'female'\n",
            "if last_letter == 'b': return 'male'\n",
            "if last_letter == 'c': return 'male'\n",
            "if last_letter == 'd': return 'male'\n",
            "if last_letter == 'e': return 'female'\n",
            "if last_letter == 'f': return 'male'\n",
            "if last_letter == 'g': return 'male'\n",
            "if last_letter == 'h': return 'female'\n",
            "if last_letter == 'i': return 'female'\n",
            "if last_letter == 'j': return 'male'\n",
            "if last_letter == 'k': return 'male'\n",
            "if last_letter == 'l': return 'male'\n",
            "if last_letter == 'm': return 'male'\n",
            "if last_letter == 'n': return 'male'\n",
            "if last_letter == 'o': return 'male'\n",
            "if last_letter == 'p': return 'male'\n",
            "if last_letter == 'r': return 'male'\n",
            "if last_letter == 's': return 'male'\n",
            "if last_letter == 't': return 'male'\n",
            "if last_letter == 'u': return 'male'\n",
            "if last_letter == 'v': return 'male'\n",
            "if last_letter == 'w': return 'male'\n",
            "if last_letter == 'x': return 'male'\n",
            "if last_letter == 'y': return 'female'\n",
            "if last_letter == 'z': return 'male'\n",
            "\n"
          ]
        }
      ]
    },
    {
      "cell_type": "markdown",
      "source": [
        "# Random Forest Model"
      ],
      "metadata": {
        "id": "8RnX4tfpSpMh"
      }
    },
    {
      "cell_type": "code",
      "source": [
        "# prompt: perform the same classification but with random forest\n",
        "\n",
        "from sklearn.feature_extraction import DictVectorizer\n",
        "from sklearn.ensemble import RandomForestClassifier\n",
        "from sklearn.metrics import accuracy_score\n",
        "\n",
        "# Function to convert NLTK features to a format scikit-learn can use\n",
        "def convert_nltk_feats_to_sklearn(nltk_feats):\n",
        "    X = [feat for (feat, label) in nltk_feats]\n",
        "    y = [label for (feat, label) in nltk_feats]\n",
        "    return X, y\n",
        "\n",
        "# Convert NLTK features to scikit-learn compatible format\n",
        "X_train, y_train = convert_nltk_feats_to_sklearn(train_feats)\n",
        "X_devtest, y_devtest = convert_nltk_feats_to_sklearn(devtest_feats)\n",
        "X_test, y_test = convert_nltk_feats_to_sklearn(test_feats)\n",
        "\n",
        "# Vectorize the dictionary features\n",
        "vec = DictVectorizer(sparse=False)\n",
        "X_train_vec = vec.fit_transform(X_train)\n",
        "X_devtest_vec = vec.transform(X_devtest)\n",
        "X_test_vec = vec.transform(X_test)\n",
        "\n",
        "# Train Random Forest Classifier\n",
        "# Using a simple set of parameters for demonstration\n",
        "rf_classifier = RandomForestClassifier(n_estimators=100, random_state=123)\n",
        "rf_classifier.fit(X_train_vec, y_train)\n",
        "\n",
        "# Evaluate on dev-test set\n",
        "y_devtest_pred = rf_classifier.predict(X_devtest_vec)\n",
        "rf_devtest_accuracy = accuracy_score(y_devtest, y_devtest_pred)\n",
        "print(\"Random Forest Dev-test accuracy:\", rf_devtest_accuracy)\n",
        "\n",
        "# Evaluate on test set\n",
        "y_test_pred = rf_classifier.predict(X_test_vec)\n",
        "rf_test_accuracy = accuracy_score(y_test, y_test_pred)\n",
        "print(\"Random Forest Test accuracy:\", rf_test_accuracy)\n",
        "\n",
        "# inspect feature importance\n",
        "print(\"Random Forest Feature Importance:\")\n",
        "for feature, importance in zip(vec.feature_names_, rf_classifier.feature_importances_):\n",
        "     print(f\"{feature}: {importance:.4f}\")\n"
      ],
      "metadata": {
        "id": "uTV-2NlLTsdr",
        "colab": {
          "base_uri": "https://localhost:8080/"
        },
        "outputId": "32517e08-eca5-4f24-cbad-309d6bfb5785"
      },
      "execution_count": null,
      "outputs": [
        {
          "output_type": "stream",
          "name": "stdout",
          "text": [
            "Random Forest Dev-test accuracy: 0.782\n",
            "Random Forest Test accuracy: 0.776\n",
            "Random Forest Feature Importance:\n",
            "last_letter= : 0.0007\n",
            "last_letter=a: 0.4014\n",
            "last_letter=b: 0.0021\n",
            "last_letter=c: 0.0116\n",
            "last_letter=d: 0.0741\n",
            "last_letter=e: 0.1192\n",
            "last_letter=f: 0.0072\n",
            "last_letter=g: 0.0038\n",
            "last_letter=h: 0.0080\n",
            "last_letter=i: 0.0660\n",
            "last_letter=j: 0.0005\n",
            "last_letter=k: 0.0263\n",
            "last_letter=l: 0.0108\n",
            "last_letter=m: 0.0206\n",
            "last_letter=n: 0.0296\n",
            "last_letter=o: 0.0502\n",
            "last_letter=p: 0.0057\n",
            "last_letter=r: 0.0503\n",
            "last_letter=s: 0.0480\n",
            "last_letter=t: 0.0279\n",
            "last_letter=u: 0.0015\n",
            "last_letter=v: 0.0037\n",
            "last_letter=w: 0.0042\n",
            "last_letter=x: 0.0013\n",
            "last_letter=y: 0.0236\n",
            "last_letter=z: 0.0015\n"
          ]
        }
      ]
    },
    {
      "cell_type": "markdown",
      "source": [
        "**Summary**\n",
        "\n",
        "\n",
        "1. In most cases, performance on the dev-test is slightly higher than on the test set because the classifier has indirectly been tuned using the dev-test set. Also, the test set represents a truly unseen dataset, making it more realistic.\n",
        "\n",
        "2. A more accurate dev-test is expected. Using the dev-test set for model selection or feature tuning makes it slightly optimistic. The test set serves as an unbiased estimate of generalization performance.\n",
        "\n",
        "3. Three classifiers Naive Bayes, Decision Tree and Random Forest were tested with features. Naive Bayes (82.6%) was the most optimal classifier for devtest and test dataset.\n",
        "\n",
        "4. Last_two feature has the maximum test accuracy performance.\n",
        "\n"
      ],
      "metadata": {
        "id": "zafLmjebS4XH"
      }
    },
    {
      "cell_type": "code",
      "source": [],
      "metadata": {
        "id": "m1LTA5DvaNW3"
      },
      "execution_count": null,
      "outputs": []
    }
  ]
}